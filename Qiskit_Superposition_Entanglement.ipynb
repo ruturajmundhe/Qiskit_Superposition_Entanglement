{
  "cells": [
    {
      "cell_type": "markdown",
      "metadata": {
        "id": "X2W5OpxSv-y2"
      },
      "source": [
        "# Superposition and Entanglement in Qiskit\n",
        "This notebook demonstrates:\n",
        "1. **Superposition** using a single qubit.\n",
        "2. **Entanglement** using two qubits.\n",
        "We will use Qiskit to create circuits, visualize the states, and measure outcomes."
      ],
      "id": "X2W5OpxSv-y2"
    },
    {
      "cell_type": "code",
      "metadata": {
        "id": "NOQIWRacv-y3",
        "colab": {
          "base_uri": "https://localhost:8080/"
        },
        "outputId": "9e6e6102-92b4-489b-a36b-30984a12c109"
      },
      "source": [
        "# ===========================\n",
        "# Install Qiskit, Aer and pylatexenc\n",
        "# ===========================\n",
        "!pip install qiskit --quiet\n",
        "!pip install qiskit-aer --quiet\n",
        "\n"
      ],
      "execution_count": 1,
      "outputs": [
        {
          "output_type": "stream",
          "name": "stdout",
          "text": [
            "\u001b[2K   \u001b[90m━━━━━━━━━━━━━━━━━━━━━━━━━━━━━━━━━━━━━━━━\u001b[0m \u001b[32m8.0/8.0 MB\u001b[0m \u001b[31m36.4 MB/s\u001b[0m eta \u001b[36m0:00:00\u001b[0m\n",
            "\u001b[2K   \u001b[90m━━━━━━━━━━━━━━━━━━━━━━━━━━━━━━━━━━━━━━━━\u001b[0m \u001b[32m2.2/2.2 MB\u001b[0m \u001b[31m60.3 MB/s\u001b[0m eta \u001b[36m0:00:00\u001b[0m\n",
            "\u001b[2K   \u001b[90m━━━━━━━━━━━━━━━━━━━━━━━━━━━━━━━━━━━━━━━━\u001b[0m \u001b[32m49.5/49.5 kB\u001b[0m \u001b[31m2.4 MB/s\u001b[0m eta \u001b[36m0:00:00\u001b[0m\n",
            "\u001b[2K   \u001b[90m━━━━━━━━━━━━━━━━━━━━━━━━━━━━━━━━━━━━━━━━\u001b[0m \u001b[32m12.4/12.4 MB\u001b[0m \u001b[31m101.8 MB/s\u001b[0m eta \u001b[36m0:00:00\u001b[0m\n",
            "\u001b[?25h"
          ]
        }
      ],
      "id": "NOQIWRacv-y3"
    },
    {
      "cell_type": "code",
      "metadata": {
        "id": "4vIIe5A0v-y4"
      },
      "source": [
        "# ===========================\n",
        "# Import Libraries\n",
        "# ===========================\n",
        "from qiskit import QuantumCircuit\n",
        "from qiskit_aer import AerSimulator\n",
        "from qiskit.visualization import plot_histogram, plot_bloch_multivector\n",
        "from qiskit.quantum_info import Statevector\n",
        "import matplotlib.pyplot as plt\n"
      ],
      "execution_count": 2,
      "outputs": [],
      "id": "4vIIe5A0v-y4"
    },
    {
      "cell_type": "markdown",
      "metadata": {
        "id": "B_QEU5O6v-y4"
      },
      "source": [
        "## 1. Superposition Example"
      ],
      "id": "B_QEU5O6v-y4"
    },
    {
      "cell_type": "code",
      "metadata": {
        "id": "mPhcfNBxv-y5",
        "colab": {
          "base_uri": "https://localhost:8080/"
        },
        "outputId": "a4aed1bb-0920-4555-90d6-661777809937"
      },
      "source": [
        "# ===========================\n",
        "# Superposition Example\n",
        "# ===========================\n",
        "# Create 1-qubit circuit\n",
        "qc_super = QuantumCircuit(1)\n",
        "\n",
        "# Apply Hadamard gate to create superposition\n",
        "qc_super.h(0)\n",
        "\n",
        "# Draw the circuit\n",
        "qc_super.draw('text')\n",
        "\n",
        "# Get statevector\n",
        "state_super = Statevector.from_instruction(qc_super)\n",
        "plot_bloch_multivector(state_super)\n",
        "plt.show()\n",
        "\n",
        "# Measure and simulate\n",
        "qc_super.measure_all()\n",
        "simulator = AerSimulator()\n",
        "job_super = simulator.run(qc_super, shots=1024)\n",
        "result_super = job_super.result()\n",
        "counts_super = result_super.get_counts()\n",
        "print(\"Superposition Measurement Counts:\", counts_super)\n",
        "plot_histogram(counts_super)\n",
        "plt.show()"
      ],
      "execution_count": 3,
      "outputs": [
        {
          "output_type": "stream",
          "name": "stdout",
          "text": [
            "Superposition Measurement Counts: {'0': 522, '1': 502}\n"
          ]
        }
      ],
      "id": "mPhcfNBxv-y5"
    },
    {
      "cell_type": "markdown",
      "metadata": {
        "id": "PWL3wDZWv-y6"
      },
      "source": [
        "## 2. Entanglement Example"
      ],
      "id": "PWL3wDZWv-y6"
    },
    {
      "cell_type": "code",
      "metadata": {
        "id": "dj2F4Yswv-y6",
        "colab": {
          "base_uri": "https://localhost:8080/"
        },
        "outputId": "3c47b7fc-4737-42f1-dc00-54f33d95fd30"
      },
      "source": [
        "# ===========================\n",
        "# Entanglement Example\n",
        "# ===========================\n",
        "# Create 2-qubit circuit\n",
        "qc_ent = QuantumCircuit(2)\n",
        "\n",
        "# Apply Hadamard on qubit 0\n",
        "qc_ent.h(0)\n",
        "\n",
        "# Apply CNOT to entangle qubit 0 and 1\n",
        "qc_ent.cx(0, 1)\n",
        "\n",
        "# Draw the circuit\n",
        "qc_ent.draw('text')\n",
        "\n",
        "# Get statevector\n",
        "state_ent = Statevector.from_instruction(qc_ent)\n",
        "print(\"Entangled Statevector:\", state_ent)\n",
        "plot_bloch_multivector(state_ent)\n",
        "plt.show()\n",
        "\n",
        "# Measure and simulate\n",
        "qc_ent.measure_all()\n",
        "job_ent = simulator.run(qc_ent, shots=1024)\n",
        "result_ent = job_ent.result()\n",
        "counts_ent = result_ent.get_counts()\n",
        "print(\"Entanglement Measurement Counts:\", counts_ent)\n",
        "plot_histogram(counts_ent)\n",
        "plt.show()"
      ],
      "execution_count": 4,
      "outputs": [
        {
          "output_type": "stream",
          "name": "stdout",
          "text": [
            "Entangled Statevector: Statevector([0.70710678+0.j, 0.        +0.j, 0.        +0.j,\n",
            "             0.70710678+0.j],\n",
            "            dims=(2, 2))\n",
            "Entanglement Measurement Counts: {'11': 509, '00': 515}\n"
          ]
        }
      ],
      "id": "dj2F4Yswv-y6"
    },
    {
      "cell_type": "markdown",
      "source": [
        "## **TASK 1**"
      ],
      "metadata": {
        "id": "hY-8HWAVUgti"
      },
      "id": "hY-8HWAVUgti"
    },
    {
      "cell_type": "code",
      "source": [
        "# ===========================\n",
        "# Task 1: Superposition\n",
        "# ===========================\n",
        "# Create a single-qubit circuit\n",
        "qc_super = QuantumCircuit(1)\n",
        "\n",
        "# Apply Hadamard gate (creates superposition)\n",
        "qc_super.h(0)\n",
        "\n",
        "# Draw the circuit\n",
        "print(\"Superposition Circuit:\")\n",
        "print(qc_super.draw('text'))\n",
        "\n",
        "# Get and visualize statevector on Bloch sphere\n",
        "state_super = Statevector.from_instruction(qc_super)\n",
        "plot_bloch_multivector(state_super)\n",
        "plt.show()\n",
        "\n",
        "# Measure and simulate\n",
        "qc_super.measure_all()\n",
        "simulator = AerSimulator()\n",
        "job_super = simulator.run(qc_super, shots=1024)\n",
        "result_super = job_super.result()\n",
        "counts_super = result_super.get_counts()\n",
        "\n",
        "print(\"Superposition Measurement Counts:\", counts_super)\n",
        "plot_histogram(counts_super)\n",
        "plt.show()"
      ],
      "metadata": {
        "colab": {
          "base_uri": "https://localhost:8080/"
        },
        "id": "Ss3vSiP0UmL4",
        "outputId": "b56c18ff-5f38-4649-92eb-359f004279cf"
      },
      "id": "Ss3vSiP0UmL4",
      "execution_count": 5,
      "outputs": [
        {
          "output_type": "stream",
          "name": "stdout",
          "text": [
            "Superposition Circuit:\n",
            "   ┌───┐\n",
            "q: ┤ H ├\n",
            "   └───┘\n",
            "Superposition Measurement Counts: {'1': 509, '0': 515}\n"
          ]
        }
      ]
    },
    {
      "cell_type": "markdown",
      "source": [
        "## **TASK 2**"
      ],
      "metadata": {
        "id": "YJbGdBKoU6vQ"
      },
      "id": "YJbGdBKoU6vQ"
    },
    {
      "cell_type": "code",
      "source": [
        "# ===========================\n",
        "# Task 2: Entanglement\n",
        "# ===========================\n",
        "# Create a 2-qubit circuit\n",
        "qc_ent = QuantumCircuit(2)\n",
        "\n",
        "# Apply Hadamard to qubit 0\n",
        "qc_ent.h(0)\n",
        "\n",
        "# Apply CNOT gate (control=0, target=1)\n",
        "qc_ent.cx(0, 1)\n",
        "\n",
        "# Draw the circuit\n",
        "print(\"\\nEntanglement Circuit:\")\n",
        "print(qc_ent.draw('text'))\n",
        "\n",
        "# Get and display the entangled statevector\n",
        "state_ent = Statevector.from_instruction(qc_ent)\n",
        "print(\"Entangled Statevector:\\n\", state_ent)\n",
        "plot_bloch_multivector(state_ent)\n",
        "plt.show()\n",
        "\n",
        "# Measure and simulate\n",
        "qc_ent.measure_all()\n",
        "job_ent = simulator.run(qc_ent, shots=1024)\n",
        "result_ent = job_ent.result()\n",
        "counts_ent = result_ent.get_counts()\n",
        "\n",
        "print(\"Entanglement Measurement Counts:\", counts_ent)\n",
        "plot_histogram(counts_ent)\n",
        "plt.show()"
      ],
      "metadata": {
        "colab": {
          "base_uri": "https://localhost:8080/"
        },
        "id": "9dRp6cF-VBJC",
        "outputId": "1595eb45-48a4-4155-f15e-07bea795b5a2"
      },
      "id": "9dRp6cF-VBJC",
      "execution_count": 6,
      "outputs": [
        {
          "output_type": "stream",
          "name": "stdout",
          "text": [
            "\n",
            "Entanglement Circuit:\n",
            "     ┌───┐     \n",
            "q_0: ┤ H ├──■──\n",
            "     └───┘┌─┴─┐\n",
            "q_1: ─────┤ X ├\n",
            "          └───┘\n",
            "Entangled Statevector:\n",
            " Statevector([0.70710678+0.j, 0.        +0.j, 0.        +0.j,\n",
            "             0.70710678+0.j],\n",
            "            dims=(2, 2))\n",
            "Entanglement Measurement Counts: {'00': 514, '11': 510}\n"
          ]
        }
      ]
    }
  ],
  "metadata": {
    "kernelspec": {
      "display_name": "Python 3",
      "language": "python",
      "name": "python3"
    },
    "language_info": {
      "name": "python",
      "version": "3.10"
    },
    "colab": {
      "provenance": []
    }
  },
  "nbformat": 4,
  "nbformat_minor": 5
}